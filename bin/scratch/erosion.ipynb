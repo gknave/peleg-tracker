{
 "cells": [
  {
   "cell_type": "code",
   "execution_count": 2,
   "metadata": {},
   "outputs": [],
   "source": [
    "import cv2\n",
    "import os\n",
    "import numpy as np\n",
    "import numpy.ma as ma\n",
    "from scipy import ndimage as ndi\n",
    "import scipy as sp\n",
    "import matplotlib.pyplot as plt\n",
    "import matplotlib.patches as mpatches\n",
    "import skimage.morphology as skmorph\n",
    "import skimage.segmentation as skseg\n",
    "import skimage.measure as skmeas\n",
    "import skimage.filters as skfilt\n",
    "import skimage.color as skcolor\n",
    "import skimage.feature as skfeat"
   ]
  },
  {
   "cell_type": "code",
   "execution_count": 3,
   "metadata": {},
   "outputs": [
    {
     "data": {
      "text/plain": [
       "<matplotlib.image.AxesImage at 0x7925de5875c0>"
      ]
     },
     "execution_count": 3,
     "metadata": {},
     "output_type": "execute_result"
    },
    {
     "data": {
      "image/png": "[encoded data removed]",
      "text/plain": [
       "<Figure size 432x288 with 1 Axes>"
      ]
     },
     "metadata": {
      "needs_background": "light"
     },
     "output_type": "display_data"
    }
   ],
   "source": [
    "data_path = '/home/michaelneuder/github/bee_tracker/data/'\n",
    "img_name = 'demo_frame.png'\n",
    "img = cv2.imread(os.path.join(data_path, img_name))\n",
    "img = np.asarray(img, dtype=float)[:,:,0]*(1/255)\n",
    "img = abs(1-img)\n",
    "img = img > skfilt.threshold_otsu(img)\n",
    "img = skmorph.opening(img, skmorph.square(8))\n",
    "img = skseg.clear_border(skmorph.remove_small_objects(img))\n",
    "img = skmeas.label(img)\n",
    "plt.imshow(img)"
   ]
  },
  {
   "cell_type": "code",
   "execution_count": 23,
   "metadata": {},
   "outputs": [],
   "source": [
    "regions_ = skmeas.regionprops(img, cache=False)\n",
    "regions_.sort(key= lambda x : x.area)"
   ]
  },
  {
   "cell_type": "code",
   "execution_count": 24,
   "metadata": {},
   "outputs": [
    {
     "data": {
      "text/plain": [
       "<matplotlib.image.AxesImage at 0x7925de1e8e48>"
      ]
     },
     "execution_count": 24,
     "metadata": {},
     "output_type": "execute_result"
    },
    {
     "data": {
      "image/png": "[encoded data removed]",
      "text/plain": [
       "<Figure size 432x288 with 1 Axes>"
      ]
     },
     "metadata": {
      "needs_background": "light"
     },
     "output_type": "display_data"
    }
   ],
   "source": [
    "plt.imshow(regions_[-3].image)"
   ]
  },
  {
   "cell_type": "code",
   "execution_count": 25,
   "metadata": {},
   "outputs": [
    {
     "data": {
      "text/plain": [
       "3.792"
      ]
     },
     "execution_count": 25,
     "metadata": {},
     "output_type": "execute_result"
    }
   ],
   "source": [
    "regions_[-3].area / 1000"
   ]
  },
  {
   "cell_type": "code",
   "execution_count": 117,
   "metadata": {},
   "outputs": [],
   "source": [
    "def erode_n_clusters(clusters):\n",
    "    eroded_clusters = []\n",
    "    for cluster in clusters:\n",
    "        number_bees = round(cluster.area/1000)\n",
    "        image = cluster.image.astype(float)\n",
    "        cluster_bbox = cluster.bbox\n",
    "        cont = True\n",
    "        count = 0\n",
    "        while cont:\n",
    "            boundary, dims = findBoundary(image)\n",
    "            boundary_map = createBoundaryMap(boundary, dims).astype('float')\n",
    "            image -= boundary_map\n",
    "            labeled_image = skmeas.label(image)\n",
    "            if max(labeled_image.flatten()) != 1:\n",
    "                region_props = skmeas.regionprops(labeled_image)\n",
    "                region_props.sort(key= lambda x : x.area)\n",
    "                # all but smallest\n",
    "                for region in region_props[:-1]:\n",
    "                    eroded_clusters.append((region, cluster_bbox))\n",
    "                    image[region.bbox[0]:region.bbox[2], region.bbox[1]:region.bbox[3]] = np.zeros((region.bbox[2]-region.bbox[0], region.bbox[3]-region.bbox[1]))\n",
    "                    count += 1\n",
    "                    if count == number_bees-1:\n",
    "                        cont = False\n",
    "                        eroded_clusters.append((region_props[-1], cluster_bbox))\n",
    "                        break\n",
    "    return eroded_clusters"
   ]
  },
  {
   "cell_type": "code",
   "execution_count": 118,
   "metadata": {},
   "outputs": [],
   "source": [
    "demo = erode_n_clusters([regions_[-3]])"
   ]
  },
  {
   "cell_type": "code",
   "execution_count": 119,
   "metadata": {},
   "outputs": [
    {
     "data": {
      "text/plain": [
       "[(<skimage.measure._regionprops._RegionProperties at 0x7925ddc42e80>,\n",
       "  (960, 505, 1035, 624)),\n",
       " (<skimage.measure._regionprops._RegionProperties at 0x7925dd5c2b70>,\n",
       "  (960, 505, 1035, 624)),\n",
       " (<skimage.measure._regionprops._RegionProperties at 0x7925ddc42d68>,\n",
       "  (960, 505, 1035, 624)),\n",
       " (<skimage.measure._regionprops._RegionProperties at 0x7925dd5c2898>,\n",
       "  (960, 505, 1035, 624))]"
      ]
     },
     "execution_count": 119,
     "metadata": {},
     "output_type": "execute_result"
    }
   ],
   "source": [
    "demo"
   ]
  },
  {
   "cell_type": "code",
   "execution_count": 122,
   "metadata": {},
   "outputs": [
    {
     "data": {
      "text/plain": [
       "<matplotlib.image.AxesImage at 0x7925dd351f98>"
      ]
     },
     "execution_count": 122,
     "metadata": {},
     "output_type": "execute_result"
    },
    {
     "data": {
      "image/png": "[encoded data removed]",
      "text/plain": [
       "<Figure size 432x288 with 1 Axes>"
      ]
     },
     "metadata": {
      "needs_background": "light"
     },
     "output_type": "display_data"
    }
   ],
   "source": [
    "plt.imshow(regions_[-3].image)"
   ]
  },
  {
   "cell_type": "code",
   "execution_count": 138,
   "metadata": {},
   "outputs": [
    {
     "name": "stdout",
     "output_type": "stream",
     "text": [
      "53.0 27.0\n",
      "56.0 96.0\n",
      "23.0 59.0\n",
      "27.0 33.0\n"
     ]
    }
   ],
   "source": [
    "img = regions_[-3].image.astype('float')\n",
    "for region in demo:\n",
    "    print(round(region[0].centroid[0]),round(region[0].centroid[1]))\n",
    "    img[int(round(region[0].centroid[0])),int(round(region[0].centroid[1]))] = 1/2"
   ]
  },
  {
   "cell_type": "code",
   "execution_count": 139,
   "metadata": {},
   "outputs": [
    {
     "data": {
      "text/plain": [
       "array([[0., 0., 0., ..., 0., 0., 0.],\n",
       "       [0., 0., 0., ..., 0., 0., 0.],\n",
       "       [0., 0., 0., ..., 0., 0., 0.],\n",
       "       ...,\n",
       "       [0., 0., 0., ..., 1., 0., 0.],\n",
       "       [0., 0., 0., ..., 0., 0., 0.],\n",
       "       [0., 0., 0., ..., 0., 0., 0.]])"
      ]
     },
     "execution_count": 139,
     "metadata": {},
     "output_type": "execute_result"
    }
   ],
   "source": [
    "img"
   ]
  },
  {
   "cell_type": "code",
   "execution_count": 140,
   "metadata": {},
   "outputs": [
    {
     "data": {
      "text/plain": [
       "<matplotlib.image.AxesImage at 0x7925dd1ed080>"
      ]
     },
     "execution_count": 140,
     "metadata": {},
     "output_type": "execute_result"
    },
    {
     "data": {
      "image/png": "[encoded data removed]",
      "text/plain": [
       "<Figure size 432x288 with 1 Axes>"
      ]
     },
     "metadata": {
      "needs_background": "light"
     },
     "output_type": "display_data"
    }
   ],
   "source": [
    "plt.imshow(img)"
   ]
  },
  {
   "cell_type": "code",
   "execution_count": null,
   "metadata": {},
   "outputs": [],
   "source": []
  },
  {
   "cell_type": "code",
   "execution_count": null,
   "metadata": {},
   "outputs": [],
   "source": []
  },
  {
   "cell_type": "code",
   "execution_count": 22,
   "metadata": {},
   "outputs": [],
   "source": [
    "def findBoundary(image):\n",
    "    boundary = []\n",
    "    for row in range(image.shape[0]):\n",
    "        for col in range(image.shape[1]):\n",
    "            if image[row][col] == 1:\n",
    "                try:\n",
    "                    if image[row][col+1] == 0 or image[row][col-1] == 0 \\\n",
    "                    or image[row+1][col] == 0 or image[row-1][col] == 0:\n",
    "                        boundary.append((row, col))\n",
    "                except IndexError:\n",
    "                    boundary.append((row,col))\n",
    "    return boundary, image.shape\n",
    "\n",
    "def createBoundaryMap(boundary, dims):\n",
    "    boundary_view = np.zeros(dims)\n",
    "    for boundary_val in boundary:\n",
    "        boundary_view[boundary_val[0]][boundary_val[1]] = 1\n",
    "    return boundary_view"
   ]
  }
 ],
 "metadata": {
  "kernelspec": {
   "display_name": "Python 3",
   "language": "python",
   "name": "python3"
  },
  "language_info": {
   "codemirror_mode": {
    "name": "ipython",
    "version": 3
   },
   "file_extension": ".py",
   "mimetype": "text/x-python",
   "name": "python",
   "nbconvert_exporter": "python",
   "pygments_lexer": "ipython3",
   "version": "3.6.8"
  }
 },
 "nbformat": 4,
 "nbformat_minor": 2
}
